{
 "cells": [
  {
   "cell_type": "markdown",
   "metadata": {},
   "source": [
    "# The Bisection Method #\n"
   ]
  },
  {
   "cell_type": "code",
   "execution_count": null,
   "metadata": {},
   "outputs": [],
   "source": [
    "import math\n",
    "def f(x):\n",
    "    return x*math.tan(x) - 1.28\n",
    "\n",
    "while(1):\n",
    "    a=float(input(\"Enter lower guess root\"))\n",
    "    b=float(input(\"Enter upper guess root\"))\n",
    "    if(f(a)*f(b)<0):\n",
    "        break\n",
    "    \n",
    "while(1):\n",
    "    c=(a+b)/2\n",
    "    if(f(a)*f(c)<0):\n",
    "        b=c\n",
    "    else:\n",
    "        a=c\n",
    "    if(abs(a-b)<0.00001):\n",
    "        break\n",
    "        \n",
    "print(\"Approximated root= \", c)"
   ]
  },
  {
   "cell_type": "code",
   "execution_count": null,
   "metadata": {},
   "outputs": [],
   "source": []
  }
 ],
 "metadata": {
  "kernelspec": {
   "display_name": "Python 3",
   "language": "python",
   "name": "python3"
  },
  "language_info": {
   "codemirror_mode": {
    "name": "ipython",
    "version": 3
   },
   "file_extension": ".py",
   "mimetype": "text/x-python",
   "name": "python",
   "nbconvert_exporter": "python",
   "pygments_lexer": "ipython3",
   "version": "3.7.4"
  }
 },
 "nbformat": 4,
 "nbformat_minor": 2
}
